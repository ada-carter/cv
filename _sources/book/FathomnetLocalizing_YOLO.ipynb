{
  "cells": [
    {
      "cell_type": "markdown",
      "metadata": {
        "id": "XGeY5XOUzPSI"
      },
      "source": [
        "## Localizing FathomNet to a New Dataset Using YOLOv11\n",
        "### Learning Objectives\n",
        "\n",
        "\n",
        "\n",
        "By the end of this lesson, you will be able to:\n",
        "\n",
        "\n",
        "\n",
        "1. Understand how to adapt the FathomNet dataset to a new dataset.\n",
        "\n",
        "2. Utilize one of MBARI's foundational fathomnet models (MBARI 315k) for inference.\n",
        "\n",
        "3. Train a YOLOv11 model using the localized dataset with adjusted parameters for optimal performance.\n",
        "\n",
        "4. Experiment with prediction and tracking modes.\n",
        "\n",
        "\n",
        "---\n",
        "\n",
        "### Introduction to FathomNet and MBARI's Foundational Models\n",
        "\n",
        "\n",
        "\n",
        "FathomNet is a large dataset designed for marine imagery analysis, and MBARI has developed many models from their dataset. The two most helpful for \"localizing\" a new dataset are:\n",
        "\n",
        "\n",
        "\n",
        "1. **Megalodon**: A region of interest (ROI) detector with a single class, \"object.\"\n",
        "\n",
        "   [Megalodon Model](https://huggingface.co/FathomNet/megalodon)\n",
        "\n",
        "\n",
        "\n",
        "2. **MBARI 315k**: A taxonomy-based object detector trained on a large-scale dataset.\n",
        "\n",
        "   [MBARI 315k Model](https://huggingface.co/FathomNet/MBARI-315k-yolov8)\n",
        "\n",
        "\n",
        "\n",
        "**Localization** in this context refers to the process of adapting a general model, like those trained on the FathomNet dataset, to work effectively on a specific dataset. This is done by utilizing the pre-trained weights from these models and fine-tuning them with new labels and annotations from your dataset. By starting with pre-trained models, significant time is saved because:\n",
        "\n",
        "\n",
        "\n",
        "- The models already encode a large amount of knowledge about marine imagery, reducing the need for extensive initial training.\n",
        "\n",
        "- Localization allows the transfer of this learned information to a new dataset, which may have unique characteristics, by focusing on fine-tuning rather than training from scratch.\n",
        "\n",
        "\n",
        "\n",
        "These models provide a foundation for efficient training and allow researchers to quickly generate results tailored to their specific needs. Up until recently, the only starting checkpoints for localization were based on large-scale datasets like COCO, which often contain no relevant data for specific scientific domains like marine imagery. Having models like Megalodon and MBARI 315k, whose weights are already tuned to the same domain, enables significantly better performance and reduces the time required to adapt a model. This domain-specific starting point allows researchers to achieve meaningful results without needing to train entirely from scratch. For our purposes we will be using the 315K model in this activity as it has more relavence to our dataset. If your dataset is particularly distinct from the deep sea benthos, it may make more sense to start with the Megalodon model as that is what Fathomnet is primarily trained on.\n",
        "\n",
        "\n",
        "\n",
        "---\n",
        "### Dataset Preparation and Inference\n",
        "\n",
        "\n",
        "\n",
        "For this lesson, we will use a new dataset: a 38-minute ROV transect near a methane seep that has been compressed from its original resolution for ease of import and predictions. ROV transects are often used to survey an area and its ecosystem, and these videos are traditionally analyzed manually or qualitatively. However, these transects can often span hours of footage and require significant labor to analyze effectively.\n",
        "\n",
        "\n",
        "\n",
        "To make localization practical for real-world use, instead of processing an entire dataset at once, we recommend generating a subset of videos with representative classes. This can be achieved by skimming through the dataset and identifying unique or diverse instances in the video or images. A general rule of thumb is to use approximately 20 minutes of video footage or 2000 still images that encompass a variety of classes representative of the entire dataset. For our purposes, we will be subsetting this video into every 32nd frame, providing roughly 2000 images to work with. This subset size is manageable for one person to analyze and provides a quick enough turnaround to make localization worthwhile.\n",
        "\n",
        "\n",
        "\n",
        "By working with such subsets, the process becomes more efficient while still allowing for effective adaptation of the FathomNet models to the dataset.\n",
        "\n",
        "\n",
        "\n",
        "#### Run Initial Predictions\n",
        "\n",
        "\n",
        "\n",
        "Use the `ultralytics` library to run predictions with both models. Passing the `save_txt=True` parameter is essential as it saves the text annotations produced in a format that is easy to import and modify:\n",
        "\n"
      ]
    },
    {
      "cell_type": "code",
      "execution_count": null,
      "metadata": {
        "colab": {
          "base_uri": "https://localhost:8080/"
        },
        "id": "9wZ7epxa7bWZ",
        "outputId": "f52ded00-b734-41bd-87bb-79bad6cf73fc"
      },
      "outputs": [],
      "source": [
        "!nvidia-smi"
      ]
    },
    {
      "cell_type": "code",
      "execution_count": null,
      "metadata": {
        "colab": {
          "base_uri": "https://localhost:8080/"
        },
        "collapsed": true,
        "id": "PsLjE_nC7Sko",
        "outputId": "07a58664-e5c0-44a8-995f-d2a9d5293591"
      },
      "outputs": [],
      "source": [
        "!pip install ultralytics"
      ]
    },
    {
      "cell_type": "code",
      "execution_count": null,
      "metadata": {
        "collapsed": true,
        "id": "4pBtvg_PzOSc"
      },
      "outputs": [],
      "source": [
        "import os\n",
        "import cv2\n",
        "from ultralytics import YOLO\n",
        "\n",
        "# Create a folder for the sampled frames\n",
        "subset_folder = \"frames\"\n",
        "os.makedirs(subset_folder, exist_ok=True)\n",
        "\n",
        "# Input video file\n",
        "video_path = \"/content/transect_compressed.mp4\"\n",
        "\n",
        "# Sample every 32nd frame from the video\n",
        "cap = cv2.VideoCapture(video_path)\n",
        "total_frames = int(cap.get(cv2.CAP_PROP_FRAME_COUNT))\n",
        "frame_rate = int(cap.get(cv2.CAP_PROP_FPS))\n",
        "sample_rate = 32\n",
        "frame_count = 0\n",
        "\n",
        "while cap.isOpened():\n",
        "    ret, frame = cap.read()\n",
        "    if not ret:\n",
        "        break\n",
        "\n",
        "    if frame_count % sample_rate == 0:\n",
        "        frame_filename = os.path.join(subset_folder, f\"frame_{frame_count}.jpg\")\n",
        "        cv2.imwrite(frame_filename, frame)\n",
        "\n",
        "    frame_count += 1\n",
        "\n",
        "cap.release()\n",
        "\n",
        "print(f\"Sampled frames saved in folder: {subset_folder}\")\n",
        "\n",
        "'''\n",
        "# Load the Megalodon model\n",
        "megalodon_model = YOLO(\"https://huggingface.co/FathomNet/megalodon/resolve/main/best.pt\")\n",
        "\n",
        "# Run inference on the sampled frames with Megalodon\n",
        "megalodon_model.predict(\n",
        "    source=subset_folder,\n",
        "    save_txt=True,\n",
        "    imgsz=1024,\n",
        "    conf=0.10,\n",
        "    iou=0.5,\n",
        "    agnostic_nms=True\n",
        ")\n",
        "'''\n",
        "\n",
        "# Load the MBARI 315k model\n",
        "mbari_model = YOLO(\"https://huggingface.co/FathomNet/MBARI-315k-yolov8/resolve/main/mbari_315k_yolov8.pt\")\n",
        "\n",
        "# Run inference on the sampled frames with MBARI 315k\n",
        "mbari_model.predict(\n",
        "    source=subset_folder,\n",
        "    save_txt=True,\n",
        "    imgsz=1024,\n",
        "    conf=0.10,\n",
        "    iou=0.5,\n",
        "    agnostic_nms=True\n",
        ")\n"
      ]
    },
    {
      "cell_type": "markdown",
      "metadata": {
        "id": "7oeKcRi60N_S"
      },
      "source": [
        "---\n",
        "\n",
        "#### Localizing Annotations\n",
        "\n",
        "Next, we want to work on localizing the predicted annotations to our class nomenclature. For this example, we will be taking the annotations given by the 315k model in taxonomic format and collapsing them into broader categories, referred to as ecological tiers. This step is done to speed up the activity and act as a proof of concept. However, always remember to consider your research question and the degree of specificity you need for your classes.\n",
        "\n",
        "Below is a guide for the four representative tiers present in this transect. This is not an exhaustive list of taxa that fit these descriptions but rather a representative sample. The four tiers are:\n",
        "\n",
        "Sessile Epifauna: Organisms that are attached to the substrate, such as anemones and sponges.\n",
        "\n",
        "Motile Epifauna: Organisms capable of moving that primarily live on the substrate, such as sea urchins, cucumbers and  stars.\n",
        "\n",
        "Demersal: Organisms that live near or on the seafloor but are capable of swimming, like benthic fish.\n",
        "\n",
        "Planktonic: Organisms that drift in the water column, such as euphasiids and other plankton.\n",
        "\n",
        ":::{figure} images/Epifauna.png\n",
        ":name: Broad Classes\n",
        "OOI/UW/NSF Carter 2025\n",
        ":::\n",
        "To proceed:\n",
        "\n",
        "1. Go into an annotation manager like Roboflow and upload the FathomNet labelmap along with your dataset. (The labelmap can be accessed on the [315 huggingface](https://huggingface.co/FathomNet/MBARI-315k-yolov8) or can be automatically zipped with your dataset if you run the cell below.)\n",
        "\n",
        "2. Luckily, the FathomNet model did most of the heavy lifting and should have predicted relatively close to the actual species. For each class, go through and review images with that class. As you go, mark down which of the four tiers each class best fits into. After reviewing all classes, bulk reassign the classes into the four tiers. Then, go through and check if anything was missed.\n",
        "\n",
        "3. Once complete, export your dataset as a ZIP file in YOLOv11 format for further processing in the colab environment. Ensure that your splits are balanced per class before exporting! A test set will not be necessary."
      ]
    },
    {
      "cell_type": "code",
      "execution_count": null,
      "metadata": {
        "id": "3jqszpPGQBmc"
      },
      "outputs": [],
      "source": [
        "import zipfile\n",
        "import os\n",
        "import urllib.request\n",
        "\n",
        "def zip_folders_and_file(folder_paths, additional_file_url, output_filename):\n",
        "\n",
        "    additional_file_path = \"config.yaml\"\n",
        "    urllib.request.urlretrieve(additional_file_url, additional_file_path)\n",
        "\n",
        "    with zipfile.ZipFile(output_filename, 'w', zipfile.ZIP_DEFLATED) as zipf:\n",
        "        for folder in folder_paths:\n",
        "            for root, _, files in os.walk(folder):\n",
        "                for file in files:\n",
        "                    file_path = os.path.join(root, file)\n",
        "                    arcname = os.path.relpath(file_path, start=folder)\n",
        "                    zipf.write(file_path, arcname)\n",
        "        zipf.write(additional_file_path, os.path.basename(additional_file_path))\n",
        "\n",
        "folders_to_zip = [\"/content/frames\", \"/content/runs/detect/predict/labels\"]\n",
        "additional_file_url = \"https://huggingface.co/FathomNet/MBARI-315k-yolov8/resolve/main/config.yaml?download=true\"\n",
        "output_zip = \"/content/315k.zip\"\n",
        "zip_folders_and_file(folders_to_zip, additional_file_url, output_zip)\n"
      ]
    },
    {
      "cell_type": "code",
      "execution_count": null,
      "metadata": {
        "colab": {
          "base_uri": "https://localhost:8080/",
          "height": 17
        },
        "id": "qxXnh-USRQqk",
        "outputId": "e549290b-76f1-4465-ccfc-ae671ff22174"
      },
      "outputs": [
        {
          "data": {
            "application/javascript": "\n    async function download(id, filename, size) {\n      if (!google.colab.kernel.accessAllowed) {\n        return;\n      }\n      const div = document.createElement('div');\n      const label = document.createElement('label');\n      label.textContent = `Downloading \"${filename}\": `;\n      div.appendChild(label);\n      const progress = document.createElement('progress');\n      progress.max = size;\n      div.appendChild(progress);\n      document.body.appendChild(div);\n\n      const buffers = [];\n      let downloaded = 0;\n\n      const channel = await google.colab.kernel.comms.open(id);\n      // Send a message to notify the kernel that we're ready.\n      channel.send({})\n\n      for await (const message of channel.messages) {\n        // Send a message to notify the kernel that we're ready.\n        channel.send({})\n        if (message.buffers) {\n          for (const buffer of message.buffers) {\n            buffers.push(buffer);\n            downloaded += buffer.byteLength;\n            progress.value = downloaded;\n          }\n        }\n      }\n      const blob = new Blob(buffers, {type: 'application/binary'});\n      const a = document.createElement('a');\n      a.href = window.URL.createObjectURL(blob);\n      a.download = filename;\n      div.appendChild(a);\n      a.click();\n      div.remove();\n    }\n  ",
            "text/plain": [
              "<IPython.core.display.Javascript object>"
            ]
          },
          "metadata": {},
          "output_type": "display_data"
        },
        {
          "data": {
            "application/javascript": "download(\"download_80f8639b-7605-4bff-9d00-e1fb48a56d04\", \"315k.zip\", 180968758)",
            "text/plain": [
              "<IPython.core.display.Javascript object>"
            ]
          },
          "metadata": {},
          "output_type": "display_data"
        },
        {
          "data": {
            "application/javascript": "\n    async function download(id, filename, size) {\n      if (!google.colab.kernel.accessAllowed) {\n        return;\n      }\n      const div = document.createElement('div');\n      const label = document.createElement('label');\n      label.textContent = `Downloading \"${filename}\": `;\n      div.appendChild(label);\n      const progress = document.createElement('progress');\n      progress.max = size;\n      div.appendChild(progress);\n      document.body.appendChild(div);\n\n      const buffers = [];\n      let downloaded = 0;\n\n      const channel = await google.colab.kernel.comms.open(id);\n      // Send a message to notify the kernel that we're ready.\n      channel.send({})\n\n      for await (const message of channel.messages) {\n        // Send a message to notify the kernel that we're ready.\n        channel.send({})\n        if (message.buffers) {\n          for (const buffer of message.buffers) {\n            buffers.push(buffer);\n            downloaded += buffer.byteLength;\n            progress.value = downloaded;\n          }\n        }\n      }\n      const blob = new Blob(buffers, {type: 'application/binary'});\n      const a = document.createElement('a');\n      a.href = window.URL.createObjectURL(blob);\n      a.download = filename;\n      div.appendChild(a);\n      a.click();\n      div.remove();\n    }\n  ",
            "text/plain": [
              "<IPython.core.display.Javascript object>"
            ]
          },
          "metadata": {},
          "output_type": "display_data"
        },
        {
          "data": {
            "application/javascript": "download(\"download_5392463f-2c59-444c-bf44-3d3c07b25b62\", \"megalodon.zip\", 181058798)",
            "text/plain": [
              "<IPython.core.display.Javascript object>"
            ]
          },
          "metadata": {},
          "output_type": "display_data"
        }
      ],
      "source": [
        "from google.colab import files\n",
        "\n",
        "files.download('/content/315k.zip')  # Download 315k.zip\n"
      ]
    },
    {
      "cell_type": "markdown",
      "metadata": {
        "id": "I4R7kx2RC_pe"
      },
      "source": [
        "---\n",
        "### Localizing the Model\n",
        "\n",
        "Now that you have a finalized four-class dataset, it’s time to train a model. Use MBARI 315k as a checkpoint to import useful weights and override the old class labels with your new class labels to create a robust model tailored to your dataset.\n",
        "\n",
        "For this training, we will select the following parameters:\n",
        "\n",
        "Data Configuration: data.yaml, which includes the paths to your train and validation datasets.\n",
        "\n",
        "Epochs: Set to 100 to ensure sufficient learning while avoiding overfitting.\n",
        "\n",
        "Image Size: 1024 to balance detail and computational efficiency.\n",
        "\n",
        "Patience: 10, to allow the model to terminate training early if no improvement is seen.\n",
        "\n",
        "Plots: Enabled (plots=True) to generate visualizations of the training progress.\n",
        "\n",
        "Below is the code to initiate training:"
      ]
    },
    {
      "cell_type": "code",
      "execution_count": null,
      "metadata": {
        "id": "AgLoS_CN0f9I"
      },
      "outputs": [],
      "source": [
        "from ultralytics import YOLO\n",
        "\n",
        "# Load a pretrained model\n",
        "model = YOLO(\"mbari_315k_yolov8.pt\")\n",
        "\n",
        "# Train the model\n",
        "results = model.train(data=\"data.yaml\", epochs=100, imgsz=1024, plots=True, patience=10)"
      ]
    },
    {
      "cell_type": "markdown",
      "metadata": {
        "id": "fWNUqeTV1L7B"
      },
      "source": [
        "### Tracking and Inference Parameter Adjustment\n",
        "\n",
        "To optimize the model, you will need to experiment with parameter combinations and evaluate performance by creating and analyzing four separate tracking videos.\n",
        "\n",
        "#### Configure and Run Tracking\n",
        "\n",
        "Use the `ultralytics` library to configure tracking parameters.  You can create four separate videos by changing the following parameters:\n",
        "\n",
        "\n",
        "1. **IoU Threshold**\n",
        "\n",
        "2. **Confidence Threshold**\n",
        "\n",
        "3. **Agnostic NMS**\n",
        "\n",
        "4. **Tracker Type**\n",
        "\n",
        "\n",
        "Here is an example setup to guide you:\n",
        "Feel free to change add or delete any of the configs.\n"
      ]
    },
    {
      "cell_type": "code",
      "execution_count": null,
      "metadata": {
        "id": "NrVi0j7I1fX7"
      },
      "outputs": [],
      "source": [
        "from ultralytics import YOLO\n",
        "\n",
        "# Initialize the model\n",
        "model = YOLO(\"/PATH/TO/YOUR/best.pt\")\n",
        "\n",
        "# Define a list of tracking configurations\n",
        "tracking_configs = [\n",
        "    {\"conf\": 0.5, \"iou\": 0.5, \"agnostic_nms\": False, \"tracker\": \"bytetrack.yaml\"},  # Default settings\n",
        "    {\"conf\": 0.8, \"iou\": 0.5, \"agnostic_nms\": True, \"tracker\": \"bytetrack.yaml\"},   # High confidence, agnostic NMS\n",
        "    {\"conf\": 0.3, \"iou\": 0.5, \"agnostic_nms\": False, \"tracker\": \"sort.yaml\"},       # Low confidence, SORT tracker\n",
        "    {\"conf\": 0.5, \"iou\": 0.8, \"agnostic_nms\": True, \"tracker\": \"sort.yaml\"}         # High IoU, SORT tracker\n",
        "]\n",
        "\n",
        "# Common settings\n",
        "common_settings = {\n",
        "    \"source\": \"content/transect_compressed.mp4\",\n",
        "    \"save_txt\": True,\n",
        "    \"imgsz\": 1024\n",
        "}\n",
        "\n",
        "# Run tracking for each configuration\n",
        "results = []\n",
        "for config in tracking_configs:\n",
        "    results.append(model.track(**common_settings, **config))\n"
      ]
    },
    {
      "cell_type": "markdown",
      "metadata": {},
      "source": [
        "### Track in Zone\n",
        "\n",
        "Tracking objects within a specific zone is crucial for analyzing ROV and other transects where the objects you are interested in pass by the camera. By focusing on a defined region, researchers can ensure accurate detection and counting of marine organisms or features while minimizing noise from irrelevant areas. This method helps standardize data collection, enabling more reliable comparisons across different transects and improving ecological assessments of underwater environments.\n",
        "\n",
        "#### Video Capture Initialization"
      ]
    },
    {
      "cell_type": "code",
      "execution_count": null,
      "metadata": {},
      "outputs": [],
      "source": [
        "cap = cv2.VideoCapture(\"/content/transect_compressed.mp4\")\n",
        "assert cap.isOpened(), \"Error reading video file\"\n",
        "w, h, fps = (int(cap.get(x)) for x in (cv2.CAP_PROP_FRAME_WIDTH,\n",
        "                                       cv2.CAP_PROP_FRAME_HEIGHT,\n",
        "                                       cv2.CAP_PROP_FPS))"
      ]
    },
    {
      "cell_type": "markdown",
      "metadata": {},
      "source": [
        "This block initializes the video capture from the specified file (transect_compressed.mp4). It verifies that the video file is successfully opened and retrieves the video's width, height, and frames per second (fps) using OpenCV properties.\n",
        "\n",
        "#### Video Writer Setup"
      ]
    },
    {
      "cell_type": "code",
      "execution_count": null,
      "metadata": {},
      "outputs": [],
      "source": [
        "video_writer = cv2.VideoWriter(\"counting.avi\",\n",
        "                               cv2.VideoWriter_fourcc(*\"mp4v\"),\n",
        "                               fps, (w, h))"
      ]
    },
    {
      "cell_type": "markdown",
      "metadata": {},
      "source": [
        "This section sets up a video writer to save the processed frames into a new output file (counting.avi). It uses the MP4V codec for encoding and ensures the output video has the same fps and dimensions as the original.\n",
        "\n",
        "#### Region Selection"
      ]
    },
    {
      "cell_type": "code",
      "execution_count": null,
      "metadata": {},
      "outputs": [],
      "source": [
        "region_points = [(0, 576), (1024, 576), (1024, 768), (0, 768)]"
      ]
    },
    {
      "cell_type": "markdown",
      "metadata": {},
      "source": [
        "This defines a rectangular region of interest (ROI) in the video, given as four coordinate points. This region is used to track and count objects only within the specified area. For our usecase the ROI is set to the bottom quarter of the video to count animals as the ROV passes above them.\n",
        "\n",
        "#### Object Counting Initialization"
      ]
    },
    {
      "cell_type": "code",
      "execution_count": null,
      "metadata": {},
      "outputs": [],
      "source": [
        "counter = solutions.ObjectCounter(\n",
        "    region=region_points,  \n",
        "    model=\"/content/best.pt\",\n",
        "    save_txt=True,\n",
        "    conf=0.10,\n",
        "    iou=0.5,\n",
        "    agnostic_nms=True\n",
        ")"
      ]
    },
    {
      "cell_type": "markdown",
      "metadata": {},
      "source": [
        "An object counter is initialized using a trained model (best.pt). The parameters include:\n",
        "\n",
        "region=region_points: Specifies the defined tracking zone.\n",
        "\n",
        "save_txt=True: Saves the detection results to a text file.\n",
        "\n",
        "conf=0.10: Sets a confidence threshold of 10% for object detection.\n",
        "\n",
        "iou=0.5: Uses a 50% Intersection Over Union (IoU) threshold to refine detections.\n",
        "\n",
        "agnostic_nms=True: Enables class-agnostic non-maximum suppression for overlapping detections.\n",
        "\n",
        "#### Video Processing Loop"
      ]
    },
    {
      "cell_type": "code",
      "execution_count": null,
      "metadata": {},
      "outputs": [],
      "source": [
        "while cap.isOpened():\n",
        "    success, im0 = cap.read()\n",
        "    if not success:\n",
        "        print(\"Video frame is empty or video processing has been successfully completed.\")\n",
        "        break\n",
        "    im0 = counter.count(im0)  # count the objects\n",
        "    video_writer.write(im0)   # write the video frames\n",
        "\n",
        "cap.release()   # Release the capture\n",
        "video_writer.release()\n",
        "cv2.destroyAllWindows()"
      ]
    },
    {
      "cell_type": "markdown",
      "metadata": {},
      "source": [
        "This loop processes each frame from the video:\n",
        "\n",
        "Reads a frame from the video.\n",
        "If no frame is available, it prints a message and stops processing.\n",
        "Runs object counting on the frame using counter.count(im0).\n",
        "Writes the processed frame to the output video.\n",
        "Releases the video resources after processing all frames and closes all OpenCV windows.\n",
        "\n"
      ]
    }
  ],
  "metadata": {
    "accelerator": "GPU",
    "colab": {
      "gpuType": "T4",
      "provenance": []
    },
    "kernelspec": {
      "display_name": "Python 3",
      "name": "python3"
    },
    "language_info": {
      "name": "python"
    }
  },
  "nbformat": 4,
  "nbformat_minor": 0
}
