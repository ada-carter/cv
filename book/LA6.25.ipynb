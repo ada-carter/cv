{
  "cells": [
    {
      "cell_type": "markdown",
      "metadata": {},
      "source": [
        "(lesson-11)=\n",
        "# Object Detection with YOLOv8"
      ]
    },
    {
      "cell_type": "markdown",
      "metadata": {},
      "source": [
        "### Overview\n",
        "In this lesson, we will train an Object Detection model using YOLOv8. You'll be able to choose specific augmentations, batch size, resolution, and other parameters based on your system's capabilities and runtime. The dataset is already provided in YOLO format and will be used to train and evaluate the model.\n"
      ]
    },
    {
      "cell_type": "markdown",
      "metadata": {},
      "source": [
        "### Learning Objectives\n",
        "By the end of this section, you will:\n",
        "- Understand the YOLO format and how to train a custom object detection model using YOLOv8.\n",
        "- Experiment with different augmentations and hyperparameters for object detection.\n",
        "- Evaluate the model's performance and visualize the results."
      ]
    },
    {
      "cell_type": "markdown",
      "metadata": {},
      "source": [
        "### Downloading the Dataset\n",
        "The dataset for this lesson is already formatted in YOLO format. You can load it directly for training and evaluation. Ensure you have the dataset uploaded before proceeding.\n"
      ]
    },
    {
      "cell_type": "markdown",
      "metadata": {},
      "source": [
        "### Preparing the Environment\n",
        "Let's first install the required libraries and set up the environment to train our YOLOv8 model."
      ]
    },
    {
      "cell_type": "code",
      "execution_count": null,
      "metadata": {},
      "outputs": [],
      "source": [
        "# Install the required dependencies\n",
        "!pip install ultralytics"
      ]
    },
    {
      "cell_type": "code",
      "execution_count": null,
      "metadata": {},
      "outputs": [],
      "source": [
        "# Import required libraries\n",
        "import os\n",
        "from ultralytics import YOLO\n",
        "import json\n"
      ]
    },
    {
      "cell_type": "markdown",
      "metadata": {},
      "source": [
        "### Loading the Dataset\n",
        "You can either load your dataset with or without augmentations. The dataset is in YOLO format, which includes images and annotation files with bounding box information.\n",
        "\n",
        "If you have chosen a different dataset or format, ensure it follows YOLO formatting. For this lesson, we assume that the dataset is organized in `train/`, `val/`, and `test/` directories."
      ]
    },
    {
      "cell_type": "code",
      "execution_count": null,
      "metadata": {},
      "outputs": [],
      "source": [
        "# Set paths to the dataset\n",
        "dataset_path = '/content/PlasticinWater/'  # Change this if your dataset is in a different location\n",
        "train_path = os.path.join(dataset_path, 'train/')\n",
        "val_path = os.path.join(dataset_path, 'val/')\n"
      ]
    },
    {
      "cell_type": "markdown",
      "metadata": {},
      "source": [
        "### Customizing Augmentations and Parameters\n",
        "With YOLOv8, you can apply different augmentations during training. You will be able to choose your augmentations, batch size, image resolution, and more parameters to fine-tune the model. For example, augmentations can include flipping, scaling, brightness adjustments, and other transformations that can make your model more robust.\n",
        "\n",
        "Here, we will allow you to customize those values."
      ]
    },
    {
      "cell_type": "code",
      "execution_count": null,
      "metadata": {},
      "outputs": [],
      "source": [
        "# Define custom parameters\n",
        "augmentations = input('Choose augmentations (e.g., flip, scale, brightness): ').split(',')\n",
        "batch_size = int(input('Enter batch size: '))\n",
        "img_size = int(input('Enter image resolution (e.g., 640): '))\n",
        "epochs = int(input('Enter number of training epochs: '))\n"
      ]
    },
    {
      "cell_type": "markdown",
      "metadata": {},
      "source": [
        "### Training the YOLOv8 Model\n",
        "Now that the environment is set up, and you have selected your augmentations and other parameters, we will proceed with training the YOLOv8 model."
      ]
    },
    {
      "cell_type": "code",
      "execution_count": null,
      "metadata": {},
      "outputs": [],
      "source": [
        "# Load the YOLOv8 model (pretrained on COCO dataset)\n",
        "model = YOLO('yolov8n.pt')  # You can change this to another YOLOv8 model if needed (e.g., 'yolov8s.pt' for a smaller model)\n",
        "\n",
        "# Train the model with the selected augmentations and parameters\n",
        "results = model.train(data=dataset_path, epochs=epochs, batch=batch_size, img_size=img_size, augmentations=augmentations)"
      ]
    },
    {
      "cell_type": "markdown",
      "id": "10d574a7",
      "metadata": {},
      "source": [
        "It is important to note that parameters do not have to be passed from a variable and can be directly loaded in during your training script. Similarly, when choosing your model, you can use a checkpoint to resume training."
      ]
    },
    {
      "cell_type": "markdown",
      "metadata": {},
      "source": [
        "### Evaluating the Model\n",
        "After training, we will evaluate the model performance using validation data and calculate metrics such as mean Average Precision (mAP)."
      ]
    },
    {
      "cell_type": "code",
      "execution_count": null,
      "metadata": {},
      "outputs": [],
      "source": [
        "# Evaluate the model on the validation dataset\n",
        "metrics = model.val(data=val_path)\n",
        "print(json.dumps(metrics, indent=4))"
      ]
    },
    {
      "cell_type": "markdown",
      "metadata": {},
      "source": [
        "### Visualizing Results\n",
        "It is essential to visualize the results on some test images to check how well the model is performing."
      ]
    },
    {
      "cell_type": "code",
      "execution_count": null,
      "metadata": {},
      "outputs": [],
      "source": [
        "# Visualize predictions on test images\n",
        "test_img = os.path.join(dataset_path, 'test/', 'test_image.jpg')  # Specify a test image\n",
        "results = model.predict(source=test_img, show=True)"
      ]
    },
    {
      "cell_type": "markdown",
      "metadata": {},
      "source": [
        "### Activity: Reflecting on Results\n",
        "Now that you've trained and evaluated your model, reflect on the following questions:\n",
        "\n",
        "- How did the augmentations and parameters affect the model's performance?\n",
        "- Were there any significant differences in the mAP metrics for different classes?\n",
        "- What visual observations can you make from the test results?"
      ]
    }
  ],
  "metadata": {
    "kernelspec": {
      "display_name": "Python 3",
      "language": "python",
      "name": "python3"
    }
  },
  "nbformat": 4,
  "nbformat_minor": 5
}
