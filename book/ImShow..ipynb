{
 "cells": [
  {
   "cell_type": "markdown",
   "metadata": {},
   "source": [
    "# Exploring Image Data With ImShow \n",
    "\n",
    "Plotly is a powerful graphing and imagery library widely used for data visualization. Unlike many other libraries, Plotly focuses on creating interactive plots, allowing you to build dynamic visualizations that offer deeper insights into your data.\n",
    "\n",
    "One essential feature in Plotly for working with image data is the imshow() function. This function enables the visualization of 2D arrays or image-like data, making it a valuable tool for exploring and understanding image datasets. Whether you're working with scientific images or any form of visual data, Plotly's interactive capabilities can provide an edge in scientific communication.\n",
    "\n",
    "In this guide, we’ll explore how to use imshow() to work with image data in Plotly, creating visuals that not only communicate your findings but also enhance your understanding of the data itself."
   ]
  },
  {
   "cell_type": "code",
   "execution_count": null,
   "metadata": {},
   "outputs": [],
   "source": [
    "import plotly.express as px\n",
    "import numpy as np\n",
    "img_rgb = np.array([[[255, 0, 0], [0, 255, 0], [0, 0, 255]],\n",
    "                    [[0, 255, 0], [0, 0, 255], [255, 0, 0]]\n",
    "                   ], dtype=np.uint8)\n",
    "fig = px.imshow(img_rgb)\n",
    "fig.show()"
   ]
  },
  {
   "cell_type": "code",
   "execution_count": null,
   "metadata": {
    "vscode": {
     "languageId": "plaintext"
    }
   },
   "outputs": [],
   "source": [
    "import plotly.express as px\n",
    "from skimage import io\n",
    "img = io.imread('https://oceancv.org/_images/WormTower.jpg')\n",
    "fig = px.imshow(img)\n",
    "#fig.update_layout(coloraxis_showscale=False)\n",
    "#fig.update_xaxes(showticklabels=False)\n",
    "#fig.update_yaxes(showticklabels=False)\n",
    "fig.show()"
   ]
  },
  {
   "cell_type": "markdown",
   "metadata": {},
   "source": [
    "Credit: UW/NSF-OOI/WHOI; J2-1666, V24."
   ]
  },
  {
   "cell_type": "code",
   "execution_count": null,
   "metadata": {
    "vscode": {
     "languageId": "plaintext"
    }
   },
   "outputs": [],
   "source": [
    "import plotly.express as px\n",
    "import plotly.graph_objects as go\n",
    "from skimage import data\n",
    "img = io.imread('https://oceancv.org/_images/OctopusCrawling.jpg')\n",
    "fig = px.imshow(img, color_continuous_scale='gray')\n",
    "fig.add_trace(go.Contour(z=img, showscale=False,\n",
    "                         contours=dict(start=0, end=70, size=70, coloring='lines'),\n",
    "                         line_width=2))\n",
    "fig.add_trace(go.Scatter(x=[230], y=[100], marker=dict(color='red', size=16)))\n",
    "fig.show()"
   ]
  },
  {
   "cell_type": "markdown",
   "metadata": {},
   "source": [
    "Credit: UW/NSF-OOI/WHOI; J2-1609; V24."
   ]
  },
  {
   "cell_type": "code",
   "execution_count": null,
   "metadata": {
    "vscode": {
     "languageId": "plaintext"
    }
   },
   "outputs": [],
   "source": [
    "from plotly.subplots import make_subplots\n",
    "from skimage import data\n",
    "img = io.imread('https://oceancv.org/_images/SeapigParty.jpg')\n",
    "fig = make_subplots(1, 2)\n",
    "\n",
    "fig.add_trace(go.Image(z=img), 1, 1)\n",
    "for channel, color in enumerate(['red', 'green', 'blue']):\n",
    "    fig.add_trace(go.Histogram(x=img[..., channel].ravel(), opacity=0.5,\n",
    "                               marker_color=color, name='%s channel' %color), 1, 2)\n",
    "fig.update_layout(height=400)\n",
    "fig.show()"
   ]
  }
 ],
 "metadata": {
  "language_info": {
   "name": "python"
  }
 },
 "nbformat": 4,
 "nbformat_minor": 2
}
